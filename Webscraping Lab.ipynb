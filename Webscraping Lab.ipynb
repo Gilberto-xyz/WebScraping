{
 "cells": [
  {
   "cell_type": "markdown",
   "metadata": {},
   "source": [
    "# <p style=\"background-color:#9470ff; color:white; font-family:newtimeroman; font-size:300%; text-align:center; border-radius: 15px 50px;\"> 💻 Webscraping 🕸️</p>\n",
    "\n",
    "## <p style=\"background-color:#99a5ff; color:#14213d; font-family:newtimeroman; font-size:150%; text-align:left; border-radius: 20px 20px;\"> 📑 Tabla de contenido</p>\n",
    "\n",
    "- Objeto BeautifulSoup\n",
    "\n",
    "    - Tag\n",
    "    - Hijos, padres y hermanos\n",
    "    - Atributos HTML\n",
    "    - Caracteres navegables\n",
    "\n",
    "- Filtro \n",
    "\n",
    "    - Buscar todos \n",
    "    - Buscar\n",
    "    - Atributos HTML\n",
    "    - Caracteres navegables\n",
    "\n",
    "- Scraping y descarga de contenifos de la web"
   ]
  },
  {
   "cell_type": "markdown",
   "metadata": {},
   "source": [
    "Para este laboratorio, vamos a utilizar Python y varias bibliotecas. Algunas de estas bibliotecas pueden estar instaladas en su entorno. Otras pueden necesitar ser instaladas por usted. \n",
    "\n",
    "Las celdas de abajo instalarán estas bibliotecas cuando se ejecuten.\n",
    "\n",
    "- [bs4](https://www.crummy.com/software/beautifulsoup/bs4/doc/)\n",
    "- [lxml](https://lxml.de/)\n",
    "- [requests](https://requests.readthedocs.io/en/master/)\n",
    "- [html5lib](https://pypi.org/project/html5lib/)"
   ]
  },
  {
   "cell_type": "code",
   "execution_count": 3,
   "metadata": {},
   "outputs": [
    {
     "name": "stderr",
     "output_type": "stream",
     "text": [
      "ERROR: Could not find a version that satisfies the requirement bs4==4.10.0 (from versions: 0.0.0, 0.0.1)\n",
      "ERROR: No matching distribution found for bs4==4.10.0\n"
     ]
    },
    {
     "name": "stdout",
     "output_type": "stream",
     "text": [
      "Requirement already satisfied: lxml==4.6.4 in c:\\users\\g\\appdata\\local\\programs\\python\\python310\\lib\\site-packages (4.6.4)\n",
      "Requirement already satisfied: html5lib==1.1 in c:\\users\\g\\appdata\\local\\programs\\python\\python310\\lib\\site-packages (1.1)\n",
      "Requirement already satisfied: six>=1.9 in c:\\users\\g\\appdata\\local\\programs\\python\\python310\\lib\\site-packages (from html5lib==1.1) (1.16.0)\n",
      "Requirement already satisfied: webencodings in c:\\users\\g\\appdata\\local\\programs\\python\\python310\\lib\\site-packages (from html5lib==1.1) (0.5.1)\n",
      "Requirement already satisfied: requests==2.26.0 in c:\\users\\g\\appdata\\local\\programs\\python\\python310\\lib\\site-packages (2.26.0)\n",
      "Requirement already satisfied: urllib3<1.27,>=1.21.1 in c:\\users\\g\\appdata\\local\\programs\\python\\python310\\lib\\site-packages (from requests==2.26.0) (1.26.8)\n",
      "Requirement already satisfied: idna<4,>=2.5 in c:\\users\\g\\appdata\\local\\programs\\python\\python310\\lib\\site-packages (from requests==2.26.0) (3.3)\n",
      "Requirement already satisfied: certifi>=2017.4.17 in c:\\users\\g\\appdata\\local\\programs\\python\\python310\\lib\\site-packages (from requests==2.26.0) (2021.10.8)\n",
      "Requirement already satisfied: charset-normalizer~=2.0.0 in c:\\users\\g\\appdata\\local\\programs\\python\\python310\\lib\\site-packages (from requests==2.26.0) (2.0.12)\n"
     ]
    }
   ],
   "source": [
    "!pip install bs4==4.10.0 \n",
    "!pip install lxml==4.6.4\n",
    "!pip install html5lib==1.1 \n",
    "!pip install requests==2.26.0"
   ]
  },
  {
   "cell_type": "markdown",
   "metadata": {},
   "source": [
    "Importamos las librerias y funciones"
   ]
  },
  {
   "cell_type": "code",
   "execution_count": 1,
   "metadata": {},
   "outputs": [],
   "source": [
    "from bs4 import BeautifulSoup # Este modulo ayuda con la extraccion de datos\n",
    "import requests # Este modulo ayuda con la descarga del html"
   ]
  },
  {
   "cell_type": "markdown",
   "metadata": {},
   "source": [
    "# <p style=\"background-color:#99a5ff; color:#14213d; font-family:newtimeroman; font-size:250%; text-align:left; border-radius: 15px 50px;\"> 📦 Objeto Beautifulsoup </p>\n",
    "\n",
    "Beautiful Soup es una biblioteca de Python para extraer datos de archivos HTML y XML, nos centraremos en los archivos HTML. Esto se logra representando el HTML como un conjunto de objetos con métodos utilizados para analizar el HTML.  Podemos navegar por el HTML como un árbol y/o filtrar lo que estamos buscando.\n",
    "\n",
    "Considere el siguiente HTML:"
   ]
  },
  {
   "cell_type": "code",
   "execution_count": 3,
   "metadata": {},
   "outputs": [
    {
     "data": {
      "text/html": [
       "<!DOCTYPE html>\n",
       "<html>\n",
       "<head>\n",
       "<title>Page Title</title>\n",
       "</head>\n",
       "<body>\n",
       "<h3><b id='boldest'>Lebron James</b></h3>\n",
       "<p> Salario: $ 92,000,000 </p>\n",
       "<h3> Stephen Curry</h3>\n",
       "<p> Salario: $85,000, 000 </p>\n",
       "<h3> Kevin Durant </h3>\n",
       "<p> Salario: $73,200, 000</p>\n",
       "</body>\n",
       "</html>\n"
      ],
      "text/plain": [
       "<IPython.core.display.HTML object>"
      ]
     },
     "metadata": {},
     "output_type": "display_data"
    }
   ],
   "source": [
    "%%html\n",
    "<!DOCTYPE html>\n",
    "<html>\n",
    "<head>\n",
    "<title>Page Title</title>\n",
    "</head>\n",
    "<body>\n",
    "<h3><b id='boldest'>Lebron James</b></h3>\n",
    "<p> Salario: $ 92,000,000 </p>\n",
    "<h3> Stephen Curry</h3>\n",
    "<p> Salario: $85,000, 000 </p>\n",
    "<h3> Kevin Durant </h3>\n",
    "<p> Salario: $73,200, 000</p>\n",
    "</body>\n",
    "</html>"
   ]
  },
  {
   "cell_type": "markdown",
   "metadata": {},
   "source": [
    "Podemos almacenarlo como una cadena en la variable HTML:"
   ]
  },
  {
   "cell_type": "code",
   "execution_count": 4,
   "metadata": {},
   "outputs": [],
   "source": [
    "html=\"<!DOCTYPE html><html><head><title>Page Title</title></head><body><h3><b id='boldest'>Lebron James</b></h3><p> Salary: $ 92,000,000 </p><h3> Stephen Curry</h3><p> Salary: $85,000, 000 </p><h3> Kevin Durant </h3><p> Salary: $73,200, 000</p></body></html>\""
   ]
  },
  {
   "cell_type": "markdown",
   "metadata": {},
   "source": [
    "Para analizar un documento, pásalo al constructor de `BeautifulSoup`, el objeto `BeautifulSoup`, que representa el documento como una estructura de datos anidada:"
   ]
  },
  {
   "cell_type": "code",
   "execution_count": 5,
   "metadata": {},
   "outputs": [],
   "source": [
    "soup = BeautifulSoup(html, 'html.parser')"
   ]
  },
  {
   "cell_type": "markdown",
   "metadata": {},
   "source": [
    "Primero, El documento se convierte a Unicode, (similar a ASCII) y las entidades HTML se convierten a caracteres Unicode. \n",
    "\n",
    "`Beautuful Soup`(BS) transforma un documento HTML complejo en un arbol complejo de objetos python. El objeto `BS` puede crear otros tipos de objetos.\n",
    "\n",
    "Se puede utilizar el metodo `prettify()` para moistrar el HTML en la estructura anidada:"
   ]
  },
  {
   "cell_type": "code",
   "execution_count": 6,
   "metadata": {},
   "outputs": [
    {
     "name": "stdout",
     "output_type": "stream",
     "text": [
      "<!DOCTYPE html>\n",
      "<html>\n",
      " <head>\n",
      "  <title>\n",
      "   Page Title\n",
      "  </title>\n",
      " </head>\n",
      " <body>\n",
      "  <h3>\n",
      "   <b id=\"boldest\">\n",
      "    Lebron James\n",
      "   </b>\n",
      "  </h3>\n",
      "  <p>\n",
      "   Salary: $ 92,000,000\n",
      "  </p>\n",
      "  <h3>\n",
      "   Stephen Curry\n",
      "  </h3>\n",
      "  <p>\n",
      "   Salary: $85,000, 000\n",
      "  </p>\n",
      "  <h3>\n",
      "   Kevin Durant\n",
      "  </h3>\n",
      "  <p>\n",
      "   Salary: $73,200, 000\n",
      "  </p>\n",
      " </body>\n",
      "</html>\n"
     ]
    }
   ],
   "source": [
    "print(soup.prettify())"
   ]
  },
  {
   "cell_type": "markdown",
   "metadata": {},
   "source": [
    "# <p style=\"background-color:#bbd0ff; color:#14213d; font-family:newtimeroman; font-size:200%; text-align:left; border-radius: 15px 50px;\"> 🏷️ Tags </p>\n",
    "\n",
    "Digamos que queremos el titulo de la pagina y el nombre del jugador mejor pagado, Podemos utilizar el Objeto `Tag`\n",
    "\n",
    "Este corresponde a una etiqueta HTML del documento original, por ejemplo:\n",
    "\n",
    "La etiqueta `<title>`"
   ]
  },
  {
   "cell_type": "code",
   "execution_count": 8,
   "metadata": {},
   "outputs": [
    {
     "name": "stdout",
     "output_type": "stream",
     "text": [
      "Objeto etiqueta(tag): <title>Page Title</title>\n"
     ]
    }
   ],
   "source": [
    "objeto_tag = soup.title\n",
    "\n",
    "print(f'Objeto etiqueta(tag): {objeto_tag}')"
   ]
  },
  {
   "cell_type": "markdown",
   "metadata": {},
   "source": [
    "Podemos ver la etiqueta tipo `bs4.element.Tag`"
   ]
  },
  {
   "cell_type": "code",
   "execution_count": 9,
   "metadata": {},
   "outputs": [
    {
     "name": "stdout",
     "output_type": "stream",
     "text": [
      "Etiqueta de tipo objeto: <class 'bs4.element.Tag'>\n"
     ]
    }
   ],
   "source": [
    "print(f'Etiqueta de tipo objeto: {type(objeto_tag)}')"
   ]
  },
  {
   "cell_type": "markdown",
   "metadata": {},
   "source": [
    "Si hay mas que una etiqueta `Tag` con el mismo nombre, Se llama al primer elemento con ese nombre de etiqueta `Tag`, que corresponde al jugador mejor pagado:"
   ]
  },
  {
   "cell_type": "code",
   "execution_count": 10,
   "metadata": {},
   "outputs": [
    {
     "data": {
      "text/plain": [
       "<h3><b id=\"boldest\">Lebron James</b></h3>"
      ]
     },
     "execution_count": 10,
     "metadata": {},
     "output_type": "execute_result"
    }
   ],
   "source": [
    "objeto_tag = soup.h3\n",
    "objeto_tag"
   ]
  },
  {
   "cell_type": "markdown",
   "metadata": {},
   "source": [
    "En el atributo **b** en negrita (bold), ayuda a utilizar la representacion en arbol. Podemos navegar por el arbol con el atributo `child` (hijo) para obtener el nombre"
   ]
  },
  {
   "cell_type": "markdown",
   "metadata": {},
   "source": [
    "# <p style=\"background-color:#bbd0ff; color:#14213d; font-family:newtimeroman; font-size:200%; text-align:left; border-radius: 15px 50px;\"> 🎋 Hijos, Padres y hermanos </p>\n",
    "\n",
    "Digamos que queremos el titulo de la pagina y el nombre del jugador mejor pagado, Podemos utilizar el Objeto `Tag`\n",
    "\n",
    "Este corresponde a una etiqueta HTML del documento original, por ejemplo:\n",
    "\n",
    "La etiqueta `<title>`"
   ]
  }
 ],
 "metadata": {
  "interpreter": {
   "hash": "7c7891e7cf380ed489d75a267c4c9edc21b025f50aaae629f7ee24d6d95fc690"
  },
  "kernelspec": {
   "display_name": "Python 3.10.2 64-bit",
   "language": "python",
   "name": "python3"
  },
  "language_info": {
   "codemirror_mode": {
    "name": "ipython",
    "version": 3
   },
   "file_extension": ".py",
   "mimetype": "text/x-python",
   "name": "python",
   "nbconvert_exporter": "python",
   "pygments_lexer": "ipython3",
   "version": "3.10.2"
  },
  "orig_nbformat": 4
 },
 "nbformat": 4,
 "nbformat_minor": 2
}
