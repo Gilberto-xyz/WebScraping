{
 "cells": [
  {
   "cell_type": "markdown",
   "metadata": {},
   "source": [
    "# <p style=\"background-color:#9470ff; color:white; font-family:newtimeroman; font-size:300%; text-align:center; border-radius: 15px 50px;\"> 💻 Webscraping 🕸️</p>\n",
    "\n",
    "## <p style=\"background-color:#99a5ff; color:#14213d; font-family:newtimeroman; font-size:150%; text-align:left; border-radius: 20px 20px;\"> 📑 Tabla de contenido</p>\n",
    "\n",
    "- Objeto BeautifulSoup\n",
    "\n",
    "    - Tag\n",
    "    - Hijos, padres y hermanos\n",
    "    - Atributos HTML\n",
    "    - String Navegable\n",
    "\n",
    "- Filtro \n",
    "\n",
    "    - Buscar todos \n",
    "    - Buscar\n",
    "    - Atributos HTML\n",
    "    - Caracteres navegables\n",
    "\n",
    "- Scraping y descarga de contenidos de la web"
   ]
  },
  {
   "cell_type": "markdown",
   "metadata": {},
   "source": [
    "Para este laboratorio, vamos a utilizar Python y varias bibliotecas. Algunas de estas bibliotecas pueden estar instaladas en su entorno. Otras pueden necesitar ser instaladas por usted. \n",
    "\n",
    "Las celdas de abajo instalarán estas bibliotecas cuando se ejecuten.\n",
    "\n",
    "- [bs4](https://www.crummy.com/software/beautifulsoup/bs4/doc/)\n",
    "- [lxml](https://lxml.de/)\n",
    "- [requests](https://requests.readthedocs.io/en/master/)\n",
    "- [html5lib](https://pypi.org/project/html5lib/)"
   ]
  },
  {
   "cell_type": "code",
   "execution_count": 1,
   "metadata": {},
   "outputs": [
    {
     "name": "stdout",
     "output_type": "stream",
     "text": [
      "Requirement already satisfied: beautifulsoup4==4.10.0 in c:\\users\\g\\appdata\\local\\programs\\python\\python310\\lib\\site-packages (4.10.0)\n",
      "Requirement already satisfied: soupsieve>1.2 in c:\\users\\g\\appdata\\local\\programs\\python\\python310\\lib\\site-packages (from beautifulsoup4==4.10.0) (2.3.1)\n",
      "Requirement already satisfied: lxml==4.6.4 in c:\\users\\g\\appdata\\local\\programs\\python\\python310\\lib\\site-packages (4.6.4)\n",
      "Requirement already satisfied: html5lib==1.1 in c:\\users\\g\\appdata\\local\\programs\\python\\python310\\lib\\site-packages (1.1)\n",
      "Requirement already satisfied: six>=1.9 in c:\\users\\g\\appdata\\local\\programs\\python\\python310\\lib\\site-packages (from html5lib==1.1) (1.16.0)\n",
      "Requirement already satisfied: webencodings in c:\\users\\g\\appdata\\local\\programs\\python\\python310\\lib\\site-packages (from html5lib==1.1) (0.5.1)\n",
      "Requirement already satisfied: requests==2.26.0 in c:\\users\\g\\appdata\\local\\programs\\python\\python310\\lib\\site-packages (2.26.0)\n",
      "Requirement already satisfied: certifi>=2017.4.17 in c:\\users\\g\\appdata\\local\\programs\\python\\python310\\lib\\site-packages (from requests==2.26.0) (2021.10.8)\n",
      "Requirement already satisfied: charset-normalizer~=2.0.0 in c:\\users\\g\\appdata\\local\\programs\\python\\python310\\lib\\site-packages (from requests==2.26.0) (2.0.12)\n",
      "Requirement already satisfied: idna<4,>=2.5 in c:\\users\\g\\appdata\\local\\programs\\python\\python310\\lib\\site-packages (from requests==2.26.0) (3.3)\n",
      "Requirement already satisfied: urllib3<1.27,>=1.21.1 in c:\\users\\g\\appdata\\local\\programs\\python\\python310\\lib\\site-packages (from requests==2.26.0) (1.26.8)\n"
     ]
    }
   ],
   "source": [
    "!pip install beautifulsoup4==4.10.0 \n",
    "!pip install lxml==4.6.4\n",
    "!pip install html5lib==1.1 \n",
    "!pip install requests==2.26.0"
   ]
  },
  {
   "cell_type": "markdown",
   "metadata": {},
   "source": [
    "Importamos las librerias y funciones"
   ]
  },
  {
   "cell_type": "code",
   "execution_count": 2,
   "metadata": {},
   "outputs": [],
   "source": [
    "from bs4 import BeautifulSoup # Este modulo ayuda con la extraccion de datos\n",
    "import requests # Este modulo ayuda con la descarga del html"
   ]
  },
  {
   "cell_type": "markdown",
   "metadata": {},
   "source": [
    "# <p style=\"background-color:#99a5ff; color:#14213d; font-family:newtimeroman; font-size:250%; text-align:left; border-radius: 15px 50px;\"> 📦 Objeto Beautifulsoup </p>\n",
    "\n",
    "Beautiful Soup es una biblioteca de Python para extraer datos de archivos HTML y XML, nos centraremos en los archivos HTML. Esto se logra representando el HTML como un conjunto de objetos con métodos utilizados para analizar el HTML.  Podemos navegar por el HTML como un árbol y/o filtrar lo que estamos buscando.\n",
    "\n",
    "Considere el siguiente HTML:"
   ]
  },
  {
   "cell_type": "code",
   "execution_count": 3,
   "metadata": {},
   "outputs": [
    {
     "data": {
      "text/html": [
       "<!DOCTYPE html>\n",
       "<html>\n",
       "<head>\n",
       "<title>Page Title</title>\n",
       "</head>\n",
       "<body>\n",
       "<h3><b id='boldest'>Lebron James</b></h3>\n",
       "<p> Salario: $ 92,000,000 </p>\n",
       "<h3> Stephen Curry</h3>\n",
       "<p> Salario: $85,000, 000 </p>\n",
       "<h3> Kevin Durant </h3>\n",
       "<p> Salario: $73,200, 000</p>\n",
       "</body>\n",
       "</html>\n"
      ],
      "text/plain": [
       "<IPython.core.display.HTML object>"
      ]
     },
     "metadata": {},
     "output_type": "display_data"
    }
   ],
   "source": [
    "%%html\n",
    "<!DOCTYPE html>\n",
    "<html>\n",
    "<head>\n",
    "<title>Page Title</title>\n",
    "</head>\n",
    "<body>\n",
    "<h3><b id='boldest'>Lebron James</b></h3>\n",
    "<p> Salario: $ 92,000,000 </p>\n",
    "<h3> Stephen Curry</h3>\n",
    "<p> Salario: $85,000, 000 </p>\n",
    "<h3> Kevin Durant </h3>\n",
    "<p> Salario: $73,200, 000</p>\n",
    "</body>\n",
    "</html>"
   ]
  },
  {
   "cell_type": "markdown",
   "metadata": {},
   "source": [
    "Podemos almacenarlo como una cadena en la variable HTML:"
   ]
  },
  {
   "cell_type": "code",
   "execution_count": 4,
   "metadata": {},
   "outputs": [],
   "source": [
    "html=\"<!DOCTYPE html><html><head><title>Page Title</title></head><body><h3><b id='boldest'>Lebron James</b></h3><p> Salary: $ 92,000,000 </p><h3> Stephen Curry</h3><p> Salary: $85,000, 000 </p><h3> Kevin Durant </h3><p> Salary: $73,200, 000</p></body></html>\""
   ]
  },
  {
   "cell_type": "markdown",
   "metadata": {},
   "source": [
    "Para analizar un documento, pásalo al constructor de `BeautifulSoup`, el objeto `BeautifulSoup`, que representa el documento como una estructura de datos anidada:"
   ]
  },
  {
   "cell_type": "code",
   "execution_count": 5,
   "metadata": {},
   "outputs": [],
   "source": [
    "soup = BeautifulSoup(html, 'html.parser')"
   ]
  },
  {
   "cell_type": "markdown",
   "metadata": {},
   "source": [
    "Primero, El documento se convierte a Unicode, (similar a ASCII) y las entidades HTML se convierten a caracteres Unicode. \n",
    "\n",
    "`Beautuful Soup`(BS) transforma un documento HTML complejo en un arbol complejo de objetos python. El objeto `BS` puede crear otros tipos de objetos.\n",
    "\n",
    "Se puede utilizar el metodo `prettify()` para moistrar el HTML en la estructura anidada:"
   ]
  },
  {
   "cell_type": "code",
   "execution_count": 6,
   "metadata": {},
   "outputs": [
    {
     "name": "stdout",
     "output_type": "stream",
     "text": [
      "<!DOCTYPE html>\n",
      "<html>\n",
      " <head>\n",
      "  <title>\n",
      "   Page Title\n",
      "  </title>\n",
      " </head>\n",
      " <body>\n",
      "  <h3>\n",
      "   <b id=\"boldest\">\n",
      "    Lebron James\n",
      "   </b>\n",
      "  </h3>\n",
      "  <p>\n",
      "   Salary: $ 92,000,000\n",
      "  </p>\n",
      "  <h3>\n",
      "   Stephen Curry\n",
      "  </h3>\n",
      "  <p>\n",
      "   Salary: $85,000, 000\n",
      "  </p>\n",
      "  <h3>\n",
      "   Kevin Durant\n",
      "  </h3>\n",
      "  <p>\n",
      "   Salary: $73,200, 000\n",
      "  </p>\n",
      " </body>\n",
      "</html>\n"
     ]
    }
   ],
   "source": [
    "print(soup.prettify())"
   ]
  },
  {
   "cell_type": "markdown",
   "metadata": {},
   "source": [
    "# <p style=\"background-color:#bbd0ff; color:#14213d; font-family:newtimeroman; font-size:200%; text-align:left; border-radius: 20px 20px;\"> 🏷️ Tags </p>\n",
    "\n",
    "Digamos que queremos el titulo de la pagina y el nombre del jugador mejor pagado, Podemos utilizar el Objeto `Tag`\n",
    "\n",
    "Este corresponde a una etiqueta HTML del documento original, por ejemplo:\n",
    "\n",
    "La etiqueta `<title>`\n",
    "\n",
    "tag == etiqueta "
   ]
  },
  {
   "cell_type": "code",
   "execution_count": 7,
   "metadata": {},
   "outputs": [
    {
     "name": "stdout",
     "output_type": "stream",
     "text": [
      "Objeto etiqueta(tag): <title>Page Title</title>\n"
     ]
    }
   ],
   "source": [
    "objeto_etiqueta = soup.title\n",
    "\n",
    "print(f'Objeto etiqueta(tag): {objeto_etiqueta}')"
   ]
  },
  {
   "cell_type": "markdown",
   "metadata": {},
   "source": [
    "Podemos ver la etiqueta tipo `bs4.element.Tag`"
   ]
  },
  {
   "cell_type": "code",
   "execution_count": 8,
   "metadata": {},
   "outputs": [
    {
     "name": "stdout",
     "output_type": "stream",
     "text": [
      "Etiqueta de tipo objeto: <class 'bs4.element.Tag'>\n"
     ]
    }
   ],
   "source": [
    "print(f'Etiqueta de tipo objeto: {type(objeto_etiqueta)}')"
   ]
  },
  {
   "cell_type": "markdown",
   "metadata": {},
   "source": [
    "Si hay mas que una etiqueta `Tag` con el mismo nombre, Se llama al primer elemento con ese nombre de etiqueta `Tag`, que corresponde al jugador mejor pagado:"
   ]
  },
  {
   "cell_type": "code",
   "execution_count": 9,
   "metadata": {},
   "outputs": [
    {
     "data": {
      "text/plain": [
       "<h3><b id=\"boldest\">Lebron James</b></h3>"
      ]
     },
     "execution_count": 9,
     "metadata": {},
     "output_type": "execute_result"
    }
   ],
   "source": [
    "objeto_etiqueta = soup.h3\n",
    "objeto_etiqueta"
   ]
  },
  {
   "cell_type": "markdown",
   "metadata": {},
   "source": [
    "En el atributo **b** en negrita (bold), ayuda a utilizar la representacion en arbol. Podemos navegar por el arbol con el atributo `child` (hijo) para obtener el nombre"
   ]
  },
  {
   "cell_type": "markdown",
   "metadata": {},
   "source": [
    "# <p style=\"background-color:#bbd0ff; color:#14213d; font-family:newtimeroman; font-size:200%; text-align:left; border-radius: 20px 20px;\"> 🎋 Hijos, Padres y hermanos </p>\n",
    "\n",
    "Como se ha dicho anteriormente el objeto `Tag` es un árbol de objetos podemos acceder al hijo de la etiqueta o navegar por la rama de la siguiente manera:"
   ]
  },
  {
   "cell_type": "code",
   "execution_count": 10,
   "metadata": {},
   "outputs": [
    {
     "data": {
      "text/plain": [
       "<b id=\"boldest\">Lebron James</b>"
      ]
     },
     "execution_count": 10,
     "metadata": {},
     "output_type": "execute_result"
    }
   ],
   "source": [
    "etiqueta_hijo = objeto_etiqueta.b\n",
    "etiqueta_hijo"
   ]
  },
  {
   "cell_type": "markdown",
   "metadata": {},
   "source": [
    "Puede acceder al padre con la funcion `parent`"
   ]
  },
  {
   "cell_type": "code",
   "execution_count": 11,
   "metadata": {},
   "outputs": [
    {
     "data": {
      "text/plain": [
       "<h3><b id=\"boldest\">Lebron James</b></h3>"
      ]
     },
     "execution_count": 11,
     "metadata": {},
     "output_type": "execute_result"
    }
   ],
   "source": [
    "etiqueta_padre = etiqueta_hijo.parent\n",
    "etiqueta_padre"
   ]
  },
  {
   "cell_type": "markdown",
   "metadata": {},
   "source": [
    "Esto es identico a:"
   ]
  },
  {
   "cell_type": "code",
   "execution_count": 12,
   "metadata": {},
   "outputs": [
    {
     "data": {
      "text/plain": [
       "<h3><b id=\"boldest\">Lebron James</b></h3>"
      ]
     },
     "execution_count": 12,
     "metadata": {},
     "output_type": "execute_result"
    }
   ],
   "source": [
    "objeto_etiqueta"
   ]
  },
  {
   "cell_type": "markdown",
   "metadata": {},
   "source": [
    "`objeto_etiqueta` padre es el elemento `body`."
   ]
  },
  {
   "cell_type": "code",
   "execution_count": 13,
   "metadata": {},
   "outputs": [
    {
     "data": {
      "text/plain": [
       "<body><h3><b id=\"boldest\">Lebron James</b></h3><p> Salary: $ 92,000,000 </p><h3> Stephen Curry</h3><p> Salary: $85,000, 000 </p><h3> Kevin Durant </h3><p> Salary: $73,200, 000</p></body>"
      ]
     },
     "execution_count": 13,
     "metadata": {},
     "output_type": "execute_result"
    }
   ],
   "source": [
    "objeto_etiqueta.parent"
   ]
  },
  {
   "cell_type": "markdown",
   "metadata": {},
   "source": [
    "El `objeto_etiqueta` es el hermano del elemento `parrafo`"
   ]
  },
  {
   "cell_type": "code",
   "execution_count": 14,
   "metadata": {},
   "outputs": [
    {
     "data": {
      "text/plain": [
       "<p> Salary: $ 92,000,000 </p>"
      ]
     },
     "execution_count": 14,
     "metadata": {},
     "output_type": "execute_result"
    }
   ],
   "source": [
    "hermano1 = objeto_etiqueta.next_sibling\n",
    "hermano1"
   ]
  },
  {
   "cell_type": "markdown",
   "metadata": {},
   "source": [
    "`hermano2` es el elemento `header` que tambien es hermano de `hermano1` y `objeto_etiqueta`"
   ]
  },
  {
   "cell_type": "code",
   "execution_count": 15,
   "metadata": {},
   "outputs": [
    {
     "data": {
      "text/plain": [
       "<h3> Stephen Curry</h3>"
      ]
     },
     "execution_count": 15,
     "metadata": {},
     "output_type": "execute_result"
    }
   ],
   "source": [
    "hermano2 = hermano1.next_sibling\n",
    "hermano2"
   ]
  },
  {
   "cell_type": "markdown",
   "metadata": {},
   "source": [
    "### Ejercicio: Siguiente hermano\n",
    "Usa el objeto `hermano2` y la propiedad `next_sibling` para encontrar el salario de Stephen Curry:"
   ]
  },
  {
   "cell_type": "code",
   "execution_count": null,
   "metadata": {},
   "outputs": [],
   "source": []
  },
  {
   "cell_type": "markdown",
   "metadata": {},
   "source": [
    "<details>\n",
    "<summary>Solución</summary>\n",
    "\n",
    "```python\n",
    "hermano2.next_sibling\n",
    "```\n",
    "\n",
    "</details>"
   ]
  },
  {
   "cell_type": "markdown",
   "metadata": {},
   "source": [
    "# <p style=\"background-color:#bbd0ff; color:#14213d; font-family:newtimeroman; font-size:200%; text-align:left; border-radius: 20px 20px;\"> 📎 Atributos HTML </p>\n",
    "\n",
    "Si la etiqueta tiene atributos, la etiqueta `id=\"boldest\"` tiene un atributo `id` cuyo valor es `boldest`. Puedes acceder a los atributos de una etiqueta tratando la etiqueta como un diccionario:"
   ]
  },
  {
   "cell_type": "code",
   "execution_count": 16,
   "metadata": {},
   "outputs": [
    {
     "data": {
      "text/plain": [
       "'boldest'"
      ]
     },
     "execution_count": 16,
     "metadata": {},
     "output_type": "execute_result"
    }
   ],
   "source": [
    "etiqueta_hijo['id']"
   ]
  },
  {
   "cell_type": "markdown",
   "metadata": {},
   "source": [
    "Se puede acceder al diccionario de atributos con la propiedad `attrs`"
   ]
  },
  {
   "cell_type": "code",
   "execution_count": 17,
   "metadata": {},
   "outputs": [
    {
     "data": {
      "text/plain": [
       "{'id': 'boldest'}"
      ]
     },
     "execution_count": 17,
     "metadata": {},
     "output_type": "execute_result"
    }
   ],
   "source": [
    "etiqueta_hijo.attrs"
   ]
  },
  {
   "cell_type": "markdown",
   "metadata": {},
   "source": [
    "También puedes trabajar con atributos multivaluados, consulta [[1]](https://www.crummy.com/software/BeautifulSoup/bs4/doc/?utm_medium=Exinfluencer&utm_source=Exinfluencer&utm_content=000026UJ&utm_term=10006555&utm_id=NA-SkillsNetwork-Channel-SkillsNetworkCoursesIBMDeveloperSkillsNetworkPY0220ENSkillsNetwork23455606-2021-01-01) para más información.\n",
    "\n",
    "También podemos obtener el contenido si el atributo de `tag` utilizando el método `get()` de Python."
   ]
  },
  {
   "cell_type": "code",
   "execution_count": 18,
   "metadata": {},
   "outputs": [
    {
     "data": {
      "text/plain": [
       "'boldest'"
      ]
     },
     "execution_count": 18,
     "metadata": {},
     "output_type": "execute_result"
    }
   ],
   "source": [
    "etiqueta_hijo.get('id')"
   ]
  },
  {
   "cell_type": "markdown",
   "metadata": {},
   "source": [
    "# <p style=\"background-color:#bbd0ff; color:#14213d; font-family:newtimeroman; font-size:200%; text-align:left; border-radius: 20px 20px;\"> ↘️ String Navegable </p>\n",
    "\n",
    "Una cadena corresponde a un trozo de texto o contenido dentro de una etiqueta. Beautiful Soup utiliza la clase `NavigableString` para contener este texto. En nuestro HTML podemos obtener el nombre del primer jugador extrayendo el sting del objeto etiqueta `tag_child`:"
   ]
  },
  {
   "cell_type": "code",
   "execution_count": 19,
   "metadata": {},
   "outputs": [
    {
     "data": {
      "text/plain": [
       "'Lebron James'"
      ]
     },
     "execution_count": 19,
     "metadata": {},
     "output_type": "execute_result"
    }
   ],
   "source": [
    "etiqueta_string = etiqueta_hijo.string\n",
    "etiqueta_string"
   ]
  },
  {
   "cell_type": "markdown",
   "metadata": {},
   "source": [
    "Podemos comprobar que el tipo es String Navegable"
   ]
  },
  {
   "cell_type": "code",
   "execution_count": 20,
   "metadata": {},
   "outputs": [
    {
     "data": {
      "text/plain": [
       "bs4.element.NavigableString"
      ]
     },
     "execution_count": 20,
     "metadata": {},
     "output_type": "execute_result"
    }
   ],
   "source": [
    "type(etiqueta_string)"
   ]
  },
  {
   "cell_type": "markdown",
   "metadata": {},
   "source": [
    "Una NavigableString es como una cadena de Python o una cadena Unicode, para ser más precisos. La principal diferencia es que también soporta algunas características de `BeautifulSoup`. Podemos convertirlo en un objeto sting en Python:"
   ]
  },
  {
   "cell_type": "code",
   "execution_count": 21,
   "metadata": {},
   "outputs": [
    {
     "data": {
      "text/plain": [
       "'Lebron James'"
      ]
     },
     "execution_count": 21,
     "metadata": {},
     "output_type": "execute_result"
    }
   ],
   "source": [
    "unicode_string = str(etiqueta_string)\n",
    "unicode_string"
   ]
  },
  {
   "cell_type": "markdown",
   "metadata": {},
   "source": [
    "# <p style=\"background-color:#99a5ff; color:#14213d; font-family:newtimeroman; font-size:250%; text-align:left; border-radius: 20px 20px;\"> 🧹 Filtro </p>\n",
    "\n",
    "Los filtros permiten encontrar patrones complejos, el filtro más simple es una cadena. En esta sección pasaremos una cadena a un método de filtro diferente y Beautiful Soup realizará una coincidencia con esa cadena exacta. Considere el siguiente HTML de lanzamiento de cohetes:"
   ]
  },
  {
   "cell_type": "code",
   "execution_count": 22,
   "metadata": {},
   "outputs": [
    {
     "data": {
      "text/html": [
       "<table>\n",
       "  <tr>\n",
       "    <td id='flight' >Flight No</td>\n",
       "    <td>Launch site</td> \n",
       "    <td>Payload mass</td>\n",
       "   </tr>\n",
       "  <tr> \n",
       "    <td>1</td>\n",
       "    <td><a href='https://en.wikipedia.org/wiki/Florida'>Florida</a></td>\n",
       "    <td>300 kg</td>\n",
       "  </tr>\n",
       "  <tr>\n",
       "    <td>2</td>\n",
       "    <td><a href='https://en.wikipedia.org/wiki/Texas'>Texas</a></td>\n",
       "    <td>94 kg</td>\n",
       "  </tr>\n",
       "  <tr>\n",
       "    <td>3</td>\n",
       "    <td><a href='https://en.wikipedia.org/wiki/Florida'>Florida<a> </td>\n",
       "    <td>80 kg</td>\n",
       "  </tr>\n",
       "</table>\n"
      ],
      "text/plain": [
       "<IPython.core.display.HTML object>"
      ]
     },
     "metadata": {},
     "output_type": "display_data"
    }
   ],
   "source": [
    "%%html\n",
    "<table>\n",
    "  <tr>\n",
    "    <td id='flight' >Flight No</td>\n",
    "    <td>Launch site</td> \n",
    "    <td>Payload mass</td>\n",
    "   </tr>\n",
    "  <tr> \n",
    "    <td>1</td>\n",
    "    <td><a href='https://en.wikipedia.org/wiki/Florida'>Florida</a></td>\n",
    "    <td>300 kg</td>\n",
    "  </tr>\n",
    "  <tr>\n",
    "    <td>2</td>\n",
    "    <td><a href='https://en.wikipedia.org/wiki/Texas'>Texas</a></td>\n",
    "    <td>94 kg</td>\n",
    "  </tr>\n",
    "  <tr>\n",
    "    <td>3</td>\n",
    "    <td><a href='https://en.wikipedia.org/wiki/Florida'>Florida<a> </td>\n",
    "    <td>80 kg</td>\n",
    "  </tr>\n",
    "</table>"
   ]
  },
  {
   "cell_type": "markdown",
   "metadata": {},
   "source": [
    "Podemos almacenarlo como una cadena en la tabla de variables:"
   ]
  },
  {
   "cell_type": "code",
   "execution_count": 23,
   "metadata": {},
   "outputs": [],
   "source": [
    "tabla=\"<table><tr><td id='flight'>Flight No</td><td>Launch site</td> <td>Payload mass</td></tr><tr> <td>1</td><td><a href='https://en.wikipedia.org/wiki/Florida'>Florida<a></td><td>300 kg</td></tr><tr><td>2</td><td><a href='https://en.wikipedia.org/wiki/Texas'>Texas</a></td><td>94 kg</td></tr><tr><td>3</td><td><a href='https://en.wikipedia.org/wiki/Florida'>Florida<a> </td><td>80 kg</td></tr></table>\""
   ]
  },
  {
   "cell_type": "code",
   "execution_count": 24,
   "metadata": {},
   "outputs": [],
   "source": [
    "tabla_bs = BeautifulSoup(tabla, 'html.parser')"
   ]
  },
  {
   "cell_type": "markdown",
   "metadata": {},
   "source": [
    "# <p style=\"background-color:#bbd0ff; color:#14213d; font-family:newtimeroman; font-size:200%; text-align:left; border-radius: 20px 20px;\"> 🔎 Buscar todos </p>\n",
    "\n",
    "El método `find_all()` busca entre los descendientes de una etiqueta y recupera todos los descendientes que coinciden con sus filtros.\n",
    "\n",
    "La firma del método `find_all(name, attrs, recursive, string, limit, **kwargs)`"
   ]
  },
  {
   "cell_type": "markdown",
   "metadata": {},
   "source": [
    "### Nombre (name)\n",
    "\n",
    "Cuando establecemos el parámetro `name` a un nombre de etiqueta, el método extraerá todas las etiquetas con ese nombre y sus hijos."
   ]
  },
  {
   "cell_type": "code",
   "execution_count": 25,
   "metadata": {},
   "outputs": [
    {
     "data": {
      "text/plain": [
       "[<tr><td id=\"flight\">Flight No</td><td>Launch site</td> <td>Payload mass</td></tr>,\n",
       " <tr> <td>1</td><td><a href=\"https://en.wikipedia.org/wiki/Florida\">Florida<a></a></a></td><td>300 kg</td></tr>,\n",
       " <tr><td>2</td><td><a href=\"https://en.wikipedia.org/wiki/Texas\">Texas</a></td><td>94 kg</td></tr>,\n",
       " <tr><td>3</td><td><a href=\"https://en.wikipedia.org/wiki/Florida\">Florida<a> </a></a></td><td>80 kg</td></tr>]"
      ]
     },
     "execution_count": 25,
     "metadata": {},
     "output_type": "execute_result"
    }
   ],
   "source": [
    "tabla_filas = tabla_bs.find_all('tr')\n",
    "tabla_filas"
   ]
  },
  {
   "cell_type": "markdown",
   "metadata": {},
   "source": [
    "El resultado es un Iterable de Python al igual que una lista, cada elemento es un objeto `tag`:"
   ]
  },
  {
   "cell_type": "code",
   "execution_count": 26,
   "metadata": {},
   "outputs": [
    {
     "data": {
      "text/plain": [
       "<tr><td id=\"flight\">Flight No</td><td>Launch site</td> <td>Payload mass</td></tr>"
      ]
     },
     "execution_count": 26,
     "metadata": {},
     "output_type": "execute_result"
    }
   ],
   "source": [
    "primer_fila = tabla_filas[0]\n",
    "primer_fila"
   ]
  },
  {
   "cell_type": "markdown",
   "metadata": {},
   "source": [
    "El tipo es `tag`"
   ]
  },
  {
   "cell_type": "code",
   "execution_count": 30,
   "metadata": {},
   "outputs": [
    {
     "name": "stdout",
     "output_type": "stream",
     "text": [
      "<class 'bs4.element.Tag'>\n"
     ]
    }
   ],
   "source": [
    "print(type(primer_fila))"
   ]
  },
  {
   "cell_type": "markdown",
   "metadata": {},
   "source": [
    "Se puede obtener el hijo"
   ]
  },
  {
   "cell_type": "code",
   "execution_count": 31,
   "metadata": {},
   "outputs": [
    {
     "data": {
      "text/plain": [
       "<td id=\"flight\">Flight No</td>"
      ]
     },
     "execution_count": 31,
     "metadata": {},
     "output_type": "execute_result"
    }
   ],
   "source": [
    "primer_fila.td"
   ]
  },
  {
   "cell_type": "markdown",
   "metadata": {},
   "source": [
    "Si iteramos por la lista, cada elemento corresponde a una fila de la tabla:"
   ]
  },
  {
   "cell_type": "code",
   "execution_count": 33,
   "metadata": {},
   "outputs": [
    {
     "name": "stdout",
     "output_type": "stream",
     "text": [
      "La fila 0 es : <tr><td id=\"flight\">Flight No</td><td>Launch site</td> <td>Payload mass</td></tr>\n",
      "La fila 1 es : <tr> <td>1</td><td><a href=\"https://en.wikipedia.org/wiki/Florida\">Florida<a></a></a></td><td>300 kg</td></tr>\n",
      "La fila 2 es : <tr><td>2</td><td><a href=\"https://en.wikipedia.org/wiki/Texas\">Texas</a></td><td>94 kg</td></tr>\n",
      "La fila 3 es : <tr><td>3</td><td><a href=\"https://en.wikipedia.org/wiki/Florida\">Florida<a> </a></a></td><td>80 kg</td></tr>\n"
     ]
    }
   ],
   "source": [
    "for iteracion, fila in enumerate(tabla_filas):\n",
    "    print(f'La fila {iteracion} es : {fila}')"
   ]
  },
  {
   "cell_type": "markdown",
   "metadata": {},
   "source": [
    "Como `row`(fila) es un objeto `cell`(celda), podemos aplicarle el método `find_all` y extraer las celdas de la tabla en las `celdas` del objeto usando la etiqueta `td`, esto es todos los hijos con el nombre `td`. El resultado es una lista, cada elemento corresponde a una celda y es un objeto `Tag`, podemos iterar a través de esta lista también. Podemos extraer el contenido utilizando el atributo `string`."
   ]
  },
  {
   "cell_type": "code",
   "execution_count": 34,
   "metadata": {},
   "outputs": [
    {
     "name": "stdout",
     "output_type": "stream",
     "text": [
      "Fila 0\n",
      "Columna 0 celda <td id=\"flight\">Flight No</td>\n",
      "Columna 1 celda <td>Launch site</td>\n",
      "Columna 2 celda <td>Payload mass</td>\n",
      "Fila 1\n",
      "Columna 0 celda <td>1</td>\n",
      "Columna 1 celda <td><a href=\"https://en.wikipedia.org/wiki/Florida\">Florida<a></a></a></td>\n",
      "Columna 2 celda <td>300 kg</td>\n",
      "Fila 2\n",
      "Columna 0 celda <td>2</td>\n",
      "Columna 1 celda <td><a href=\"https://en.wikipedia.org/wiki/Texas\">Texas</a></td>\n",
      "Columna 2 celda <td>94 kg</td>\n",
      "Fila 3\n",
      "Columna 0 celda <td>3</td>\n",
      "Columna 1 celda <td><a href=\"https://en.wikipedia.org/wiki/Florida\">Florida<a> </a></a></td>\n",
      "Columna 2 celda <td>80 kg</td>\n"
     ]
    }
   ],
   "source": [
    "for iteracion, fila in enumerate(tabla_filas):\n",
    "    \n",
    "    print(f'Fila {iteracion}')\n",
    "    celdas = fila.findAll('td')\n",
    "    \n",
    "    for jteracion, celda in enumerate(celdas):\n",
    "        \n",
    "        print(f'Columna {jteracion} celda {celda}')"
   ]
  },
  {
   "cell_type": "markdown",
   "metadata": {},
   "source": [
    "Si utilizamos una lista podemos comparar con cualquier elemento de esa lista."
   ]
  },
  {
   "cell_type": "code",
   "execution_count": 35,
   "metadata": {},
   "outputs": [
    {
     "data": {
      "text/plain": [
       "[<tr><td id=\"flight\">Flight No</td><td>Launch site</td> <td>Payload mass</td></tr>,\n",
       " <td id=\"flight\">Flight No</td>,\n",
       " <td>Launch site</td>,\n",
       " <td>Payload mass</td>,\n",
       " <tr> <td>1</td><td><a href=\"https://en.wikipedia.org/wiki/Florida\">Florida<a></a></a></td><td>300 kg</td></tr>,\n",
       " <td>1</td>,\n",
       " <td><a href=\"https://en.wikipedia.org/wiki/Florida\">Florida<a></a></a></td>,\n",
       " <td>300 kg</td>,\n",
       " <tr><td>2</td><td><a href=\"https://en.wikipedia.org/wiki/Texas\">Texas</a></td><td>94 kg</td></tr>,\n",
       " <td>2</td>,\n",
       " <td><a href=\"https://en.wikipedia.org/wiki/Texas\">Texas</a></td>,\n",
       " <td>94 kg</td>,\n",
       " <tr><td>3</td><td><a href=\"https://en.wikipedia.org/wiki/Florida\">Florida<a> </a></a></td><td>80 kg</td></tr>,\n",
       " <td>3</td>,\n",
       " <td><a href=\"https://en.wikipedia.org/wiki/Florida\">Florida<a> </a></a></td>,\n",
       " <td>80 kg</td>]"
      ]
     },
     "execution_count": 35,
     "metadata": {},
     "output_type": "execute_result"
    }
   ],
   "source": [
    "lista_entrada = tabla_bs.find_all(name=['tr', 'td'])\n",
    "lista_entrada"
   ]
  },
  {
   "cell_type": "markdown",
   "metadata": {},
   "source": [
    "# <p style=\"background-color:#bbd0ff; color:#14213d; font-family:newtimeroman; font-size:200%; text-align:left; border-radius: 20px 20px;\"> 🧷 Atributos </p>\n",
    "\n",
    "Si el argumento no es reconocido se convertirá en un filtro sobre los atributos de la etiqueta. Por ejemplo el argumento `id`, Beautiful Soup filtrará contra el atributo `id` de cada etiqueta. Por ejemplo, los primeros elementos `td` tienen un valor de `id` de `vuelo`, por lo tanto podemos filtrar en base a ese valor de `id`."
   ]
  },
  {
   "cell_type": "code",
   "execution_count": 36,
   "metadata": {},
   "outputs": [
    {
     "data": {
      "text/plain": [
       "[<td id=\"flight\">Flight No</td>]"
      ]
     },
     "execution_count": 36,
     "metadata": {},
     "output_type": "execute_result"
    }
   ],
   "source": [
    "tabla_bs.find_all(id='flight')"
   ]
  },
  {
   "cell_type": "markdown",
   "metadata": {},
   "source": [
    "Podemos encontrar todos los elementos que tienen enlaces a la página de[ Wikipedia de Florida](https://en.wikipedia.org/wiki/Florida):"
   ]
  },
  {
   "cell_type": "code",
   "execution_count": 37,
   "metadata": {},
   "outputs": [
    {
     "data": {
      "text/plain": [
       "[<a href=\"https://en.wikipedia.org/wiki/Florida\">Florida<a></a></a>,\n",
       " <a href=\"https://en.wikipedia.org/wiki/Florida\">Florida<a> </a></a>]"
      ]
     },
     "execution_count": 37,
     "metadata": {},
     "output_type": "execute_result"
    }
   ],
   "source": [
    "lista_entrada = tabla_bs.find_all(href='https://en.wikipedia.org/wiki/Florida')\n",
    "lista_entrada"
   ]
  },
  {
   "cell_type": "markdown",
   "metadata": {},
   "source": [
    "Si establecemos el atributo `href` en True, independientemente del valor, el código encuentra todas las etiquetas con valor `href`:"
   ]
  },
  {
   "cell_type": "code",
   "execution_count": 38,
   "metadata": {},
   "outputs": [
    {
     "data": {
      "text/plain": [
       "[<a href=\"https://en.wikipedia.org/wiki/Florida\">Florida<a></a></a>,\n",
       " <a href=\"https://en.wikipedia.org/wiki/Texas\">Texas</a>,\n",
       " <a href=\"https://en.wikipedia.org/wiki/Florida\">Florida<a> </a></a>]"
      ]
     },
     "execution_count": 38,
     "metadata": {},
     "output_type": "execute_result"
    }
   ],
   "source": [
    "tabla_bs.find_all(href=True)"
   ]
  },
  {
   "cell_type": "markdown",
   "metadata": {},
   "source": [
    "Existen otros métodos para tratar los atributos y otros métodos relacionados; compruebe lo siguiente [link](https://www.crummy.com/software/BeautifulSoup/bs4/doc/?utm_medium=Exinfluencer&utm_source=Exinfluencer&utm_content=000026UJ&utm_term=10006555&utm_id=NA-SkillsNetwork-Channel-SkillsNetworkCoursesIBMDeveloperSkillsNetworkPY0220ENSkillsNetwork23455606-2021-01-01#css-selectors)"
   ]
  },
  {
   "cell_type": "markdown",
   "metadata": {},
   "source": [
    "###  Ejercicio: find_all()\n",
    "\n",
    "Usando la lógica anterior, encuentra todos los elementos sin valor href"
   ]
  },
  {
   "cell_type": "code",
   "execution_count": null,
   "metadata": {},
   "outputs": [],
   "source": []
  },
  {
   "cell_type": "markdown",
   "metadata": {},
   "source": [
    "<details><summary>Solución</summary>\n",
    "\n",
    "```\n",
    "table_bs.find_all(href=False)\n",
    "\n",
    "```\n",
    "\n",
    "</details>"
   ]
  },
  {
   "cell_type": "markdown",
   "metadata": {},
   "source": [
    "Usando el objeto `soup`, encuentra el elemento con el atributo `id` contenido en `\"boldest\"`."
   ]
  },
  {
   "cell_type": "code",
   "execution_count": null,
   "metadata": {},
   "outputs": [],
   "source": []
  },
  {
   "cell_type": "markdown",
   "metadata": {},
   "source": [
    "<details><summary>Solución</summary>\n",
    "\n",
    "```\n",
    "soup.find_all(id=\"boldest\")\n",
    "\n",
    "```\n",
    "\n",
    "</details>"
   ]
  },
  {
   "cell_type": "markdown",
   "metadata": {},
   "source": [
    "# <p style=\"background-color:#bbd0ff; color:#14213d; font-family:newtimeroman; font-size:200%; text-align:left; border-radius: 20px 20px;\"> 🔗 String </p>\n",
    "\n",
    "Con string se pueden buscar cadenas en lugar de etiquetas, donde encontramos todos los elementos con Florida:"
   ]
  },
  {
   "cell_type": "code",
   "execution_count": 39,
   "metadata": {},
   "outputs": [
    {
     "data": {
      "text/plain": [
       "['Florida', 'Florida']"
      ]
     },
     "execution_count": 39,
     "metadata": {},
     "output_type": "execute_result"
    }
   ],
   "source": [
    "tabla_bs.find_all(string='Florida')"
   ]
  },
  {
   "cell_type": "code",
   "execution_count": 40,
   "metadata": {},
   "outputs": [
    {
     "data": {
      "text/plain": [
       "['Florida', 'Florida']"
      ]
     },
     "execution_count": 40,
     "metadata": {},
     "output_type": "execute_result"
    }
   ],
   "source": [
    "tabla_bs.find_all(text='Florida')"
   ]
  },
  {
   "cell_type": "markdown",
   "metadata": {},
   "source": [
    "# <p style=\"background-color:#bbd0ff; color:#14213d; font-family:newtimeroman; font-size:200%; text-align:left; border-radius: 20px 20px;\"> 🔍 Find </p>\n",
    "\n",
    "El método `find_all()` escanea todo el documento en busca de resultados, es si usted está buscando un elemento puede utilizar el método `find()` para encontrar el primer elemento en el documento. Considere las siguientes dos tablas:"
   ]
  },
  {
   "cell_type": "code",
   "execution_count": 63,
   "metadata": {},
   "outputs": [
    {
     "data": {
      "text/html": [
       "<h3>Rocket Launch </h3>\n",
       "\n",
       "<p>\n",
       "<table class='rocket'>\n",
       "  <tr>\n",
       "    <td>Flight No</td>\n",
       "    <td>Launch site</td> \n",
       "    <td>Payload mass</td>\n",
       "  </tr>\n",
       "  <tr>\n",
       "    <td>1</td>\n",
       "    <td>Florida</td>\n",
       "    <td>300 kg</td>\n",
       "  </tr>\n",
       "  <tr>\n",
       "    <td>2</td>\n",
       "    <td>Texas</td>\n",
       "    <td>94 kg</td>\n",
       "  </tr>\n",
       "  <tr>\n",
       "    <td>3</td>\n",
       "    <td>Florida </td>\n",
       "    <td>80 kg</td>\n",
       "  </tr>\n",
       "</table>\n",
       "</p>\n",
       "<p>\n",
       "\n",
       "<h3>Pizza Party  </h3>\n",
       "  \n",
       "    \n",
       "<table class='pizza'>\n",
       "  <tr>\n",
       "    <td>Pizza Place</td>\n",
       "    <td>Orders</td> \n",
       "    <td>Slices </td>\n",
       "   </tr>\n",
       "  <tr>\n",
       "    <td>Domino's Pizza</td>\n",
       "    <td>10</td>\n",
       "    <td>100</td>\n",
       "  </tr>\n",
       "  <tr>\n",
       "    <td>Little Caesars</td>\n",
       "    <td>12</td>\n",
       "    <td >144 </td>\n",
       "  </tr>\n",
       "  <tr>\n",
       "    <td>Papa John's </td>\n",
       "    <td>15 </td>\n",
       "    <td>165</td>\n",
       "  </tr>\n",
       "</table>\n",
       "</p>\n"
      ],
      "text/plain": [
       "<IPython.core.display.HTML object>"
      ]
     },
     "metadata": {},
     "output_type": "display_data"
    }
   ],
   "source": [
    "%%html\n",
    "<h3>Rocket Launch </h3>\n",
    "\n",
    "<p>\n",
    "<table class='rocket'>\n",
    "  <tr>\n",
    "    <td>Flight No</td>\n",
    "    <td>Launch site</td> \n",
    "    <td>Payload mass</td>\n",
    "  </tr>\n",
    "  <tr>\n",
    "    <td>1</td>\n",
    "    <td>Florida</td>\n",
    "    <td>300 kg</td>\n",
    "  </tr>\n",
    "  <tr>\n",
    "    <td>2</td>\n",
    "    <td>Texas</td>\n",
    "    <td>94 kg</td>\n",
    "  </tr>\n",
    "  <tr>\n",
    "    <td>3</td>\n",
    "    <td>Florida </td>\n",
    "    <td>80 kg</td>\n",
    "  </tr>\n",
    "</table>\n",
    "</p>\n",
    "<p>\n",
    "\n",
    "<h3>Pizza Party  </h3>\n",
    "  \n",
    "    \n",
    "<table class='pizza'>\n",
    "  <tr>\n",
    "    <td>Pizza Place</td>\n",
    "    <td>Orders</td> \n",
    "    <td>Slices </td>\n",
    "   </tr>\n",
    "  <tr>\n",
    "    <td>Domino's Pizza</td>\n",
    "    <td>10</td>\n",
    "    <td>100</td>\n",
    "  </tr>\n",
    "  <tr>\n",
    "    <td>Little Caesars</td>\n",
    "    <td>12</td>\n",
    "    <td >144 </td>\n",
    "  </tr>\n",
    "  <tr>\n",
    "    <td>Papa John's </td>\n",
    "    <td>15 </td>\n",
    "    <td>165</td>\n",
    "  </tr>\n",
    "</table>\n",
    "</p>"
   ]
  },
  {
   "cell_type": "markdown",
   "metadata": {},
   "source": [
    "Almacenamos el HTML como una cadena de Python y asignamos `dos_tablas`:"
   ]
  },
  {
   "cell_type": "code",
   "execution_count": 43,
   "metadata": {},
   "outputs": [],
   "source": [
    "dos_tablas=\"<h3>Rocket Launch </h3><p><table class='rocket'><tr><td>Flight No</td><td>Launch site</td> <td>Payload mass</td></tr><tr><td>1</td><td>Florida</td><td>300 kg</td></tr><tr><td>2</td><td>Texas</td><td>94 kg</td></tr><tr><td>3</td><td>Florida </td><td>80 kg</td></tr></table></p><p><h3>Pizza Party  </h3><table class='pizza'><tr><td>Pizza Place</td><td>Orders</td> <td>Slices </td></tr><tr><td>Domino's Pizza</td><td>10</td><td>100</td></tr><tr><td>Little Caesars</td><td>12</td><td >144 </td></tr><tr><td>Papa John's </td><td>15 </td><td>165</td></tr>\""
   ]
  },
  {
   "cell_type": "markdown",
   "metadata": {},
   "source": [
    "Creamos un objeto Beautifulsoup `dos_tablas_bs`"
   ]
  },
  {
   "cell_type": "code",
   "execution_count": 44,
   "metadata": {},
   "outputs": [],
   "source": [
    "dos_tablas_bs = BeautifulSoup(dos_tablas, 'html.parser')"
   ]
  },
  {
   "cell_type": "markdown",
   "metadata": {},
   "source": [
    "Podemos encontrar la primera tabla utilizando la tabla de nombres de etiquetas"
   ]
  },
  {
   "cell_type": "code",
   "execution_count": 45,
   "metadata": {},
   "outputs": [
    {
     "data": {
      "text/plain": [
       "<table class=\"rocket\"><tr><td>Flight No</td><td>Launch site</td> <td>Payload mass</td></tr><tr><td>1</td><td>Florida</td><td>300 kg</td></tr><tr><td>2</td><td>Texas</td><td>94 kg</td></tr><tr><td>3</td><td>Florida </td><td>80 kg</td></tr></table>"
      ]
     },
     "execution_count": 45,
     "metadata": {},
     "output_type": "execute_result"
    }
   ],
   "source": [
    "dos_tablas_bs.find('table')"
   ]
  },
  {
   "cell_type": "markdown",
   "metadata": {},
   "source": [
    "Podemos filtrar por el atributo class para encontrar la segunda tabla, pero como class es una palabra clave en Python, añadimos un guión bajo."
   ]
  },
  {
   "cell_type": "code",
   "execution_count": 46,
   "metadata": {},
   "outputs": [
    {
     "data": {
      "text/plain": [
       "<table class=\"pizza\"><tr><td>Pizza Place</td><td>Orders</td> <td>Slices </td></tr><tr><td>Domino's Pizza</td><td>10</td><td>100</td></tr><tr><td>Little Caesars</td><td>12</td><td>144 </td></tr><tr><td>Papa John's </td><td>15 </td><td>165</td></tr></table>"
      ]
     },
     "execution_count": 46,
     "metadata": {},
     "output_type": "execute_result"
    }
   ],
   "source": [
    "dos_tablas_bs.find('table', class_='pizza')"
   ]
  },
  {
   "cell_type": "markdown",
   "metadata": {},
   "source": [
    "# <p style=\"background-color:#99a5ff; color:#14213d; font-family:newtimeroman; font-size:250%; text-align:left; border-radius: 15px 50px;\"> ⬇️ Scraping y descarga de contenidos de la web </p>\n",
    "\n",
    "Descargamos el contenido de la página web de [IBM](http://www.ibm.com):"
   ]
  },
  {
   "cell_type": "code",
   "execution_count": 51,
   "metadata": {},
   "outputs": [],
   "source": [
    "# Almacenamos el link en la variable\n",
    "url = 'http://www.ibm.com'"
   ]
  },
  {
   "cell_type": "markdown",
   "metadata": {},
   "source": [
    "Usamos `get` para descargar el contenido de la página web en formato de texto y almacenarlo en una variable llamada `data`:"
   ]
  },
  {
   "cell_type": "code",
   "execution_count": 48,
   "metadata": {},
   "outputs": [],
   "source": [
    "data = requests.get(url).text"
   ]
  },
  {
   "cell_type": "markdown",
   "metadata": {},
   "source": [
    "Creamos un objeto `BeautifulSoup` utilizando el constructor `BeautifulSoup`"
   ]
  },
  {
   "cell_type": "code",
   "execution_count": 49,
   "metadata": {},
   "outputs": [],
   "source": [
    "soup = BeautifulSoup(data, 'html.parser')"
   ]
  },
  {
   "cell_type": "markdown",
   "metadata": {},
   "source": [
    "### Obtener todos los links"
   ]
  },
  {
   "cell_type": "code",
   "execution_count": 50,
   "metadata": {},
   "outputs": [
    {
     "name": "stdout",
     "output_type": "stream",
     "text": [
      "https://www.ibm.com/mx/es\n",
      "https://www.ibm.com/sitemap/mx/es\n",
      "https://www.ibm.com/mx-es/products/z16\n",
      "https://newsroom.ibm.com/Update-on-our-actions-War-in-Ukraine\n",
      "https://www.ibm.com/about/es-es/secure-your-business/\n",
      "https://www.ibm.com/cloud/es-es/campaign/cloud-simplicity/\n",
      "https://www.ibm.com/analytics/es-es/data-fabric/\n",
      "https://www.ibm.com/cloud/es-es/aiops/\n",
      "https://www.ibm.com/consulting/es-es/\n",
      "https://www.ibm.com/mx-es/it-infrastructure/storage/flash\n",
      "https://www.ibm.com/it-infrastructure/storage/flash/offers/mx-es\n",
      "https://www.ibm.com/mx-es/products/?types%5B0%5D=trial\n",
      "/mx-es/qradar\n",
      "/mx-es/it-infrastructure/z\n",
      "/mx-es/products/cloud-pak-for-data\n",
      "/mx-es/cloud/turbonomic\n",
      "/mx-es/consulting/experience\n",
      "https://developer.ibm.com/es/depmodels/cloud/?lnk=hpv18ct16\n",
      "https://developer.ibm.com/es/technologies/artificial-intelligence/?lnk=hpv18ct19\n",
      "https://developer.ibm.com/es/?lnk=hpv18ct9\n",
      "https://www.ibm.com/docs/es?lnk=hpv18ct14\n",
      "https://www.redbooks.ibm.com/?lnk=ushpv18ct10\n",
      "https://www.ibm.com/support/home/?lnk=hpv18ct11\n",
      "https://www.ibm.com/training/?lnk=hpv18ct15\n",
      "/mx-es/cloud\n",
      "/cloud/hybrid?lnk=hpv18pt14\n",
      "/mx-es/watson?lnk=ushpv18pt17\n",
      "/mx-es/garage?lnk=hpv18pt13\n",
      "/mx-es/blockchain?lnk=hpv18pt4\n",
      "https://www.ibm.com/thought-leadership/institute-business-value/?lnk=hpv18pt12\n",
      "/mx-es/analytics?lnk=hpv18pt1\n",
      "/mx-es/security?lnk=hpv18pt9\n",
      "/mx-es/financing?lnk=hpv18pt3\n",
      "https://www.ibm.com/quantum-computing?lnk=hpv18pt16\n",
      "/cloud/learn/public-cloud\n",
      "/mx-es/cloud/learn/hybrid-cloud\n",
      "/mx-es/cloud/satellite?lnk=hpv18ct1\n",
      "/mx-es/cloud/redhat?lnk=hpv18ct13\n",
      "/mx-es/watson?lnk=hpv18ct3\n",
      "https://www.ibm.com/quantum-computing?lnk=hpv18ct18\n",
      "/cloud/learn/kubernetes?lnk=hpv18ct8\n",
      "/mx-es/products/spss-statistics?lnk=ushpv18ct7\n",
      "/mx-es/blockchain?lnk=hpv18ct1\n",
      "https://www.ibm.com/mx-es/employment?lnk=hpv18ct2\n",
      "https://www.ibm.com/case-studies/coca-cola-european-partners/?lnk=hpv18cs1\n",
      "/case-studies/search?lnk=hpv18cs2\n",
      "#\n"
     ]
    }
   ],
   "source": [
    "# En HTML todos los links son representados con la etiqueta <a>\n",
    "for link in soup.find_all('a', href=True): \n",
    "    \n",
    "    print(link.get('href'))"
   ]
  },
  {
   "cell_type": "markdown",
   "metadata": {},
   "source": [
    "### Obtener todas las etiquetas de imagenes"
   ]
  },
  {
   "cell_type": "code",
   "execution_count": 53,
   "metadata": {},
   "outputs": [
    {
     "name": "stdout",
     "output_type": "stream",
     "text": [
      "<img alt=\"Seguridad predictiva para evitar el costo de una brecha de datos\" class=\"\" loading=\"lazy\" src=\"//1.cms.s81c.com/sites/default/files/2022-02-14/ibm-security.jpg\"/>\n",
      "//1.cms.s81c.com/sites/default/files/2022-02-14/ibm-security.jpg\n",
      "<img alt=\"Quienes toman decisiones consideran que TI se ha vuelto más complicado\" class=\"\" loading=\"lazy\" src=\"//1.cms.s81c.com/sites/default/files/2022-02-14/ibm-simplify-cloud.jpg\"/>\n",
      "//1.cms.s81c.com/sites/default/files/2022-02-14/ibm-simplify-cloud.jpg\n",
      "<img alt=\"Innove rápidamente con acceso simplificado a datos listos para análisis e IA\" class=\"\" loading=\"lazy\" src=\"//1.cms.s81c.com/sites/default/files/2022-02-14/ibm-data-driven.jpg\"/>\n",
      "//1.cms.s81c.com/sites/default/files/2022-02-14/ibm-data-driven.jpg\n",
      "<img alt=\"Las compañías que invierten en AIOps y automation reducen costos en un 50%\" class=\"\" loading=\"lazy\" src=\"//1.cms.s81c.com/sites/default/files/2022-02-14/ibm-automate.jpg\"/>\n",
      "//1.cms.s81c.com/sites/default/files/2022-02-14/ibm-automate.jpg\n",
      "<img alt=\"Trabajemos juntos para transformar ideas en acciones\" class=\"\" loading=\"lazy\" src=\"//1.cms.s81c.com/sites/default/files/2022-02-14/ibm-transform-consulting.jpg\"/>\n",
      "//1.cms.s81c.com/sites/default/files/2022-02-14/ibm-transform-consulting.jpg\n",
      "<img alt=\"IBM Security QRadar XDR\" class=\"\" loading=\"lazy\" src=\"//1.cms.s81c.com/sites/default/files/2022-02-16/security_merch_444x254_0.png\"/>\n",
      "//1.cms.s81c.com/sites/default/files/2022-02-16/security_merch_444x254_0.png\n",
      "<img alt=\"\" class=\"\" loading=\"lazy\" src=\"//1.cms.s81c.com/sites/default/files/2022-04-07/ibm-z.jpeg\"/>\n",
      "//1.cms.s81c.com/sites/default/files/2022-04-07/ibm-z.jpeg\n",
      "<img alt=\"IBM Cloud Pak for Data\" class=\"\" loading=\"lazy\" src=\"//1.cms.s81c.com/sites/default/files/2022-02-16/data_merch_444x254_0.jpg\"/>\n",
      "//1.cms.s81c.com/sites/default/files/2022-02-16/data_merch_444x254_0.jpg\n",
      "<img alt=\"Aumente la productividad de TI\" class=\"\" loading=\"lazy\" src=\"//1.cms.s81c.com/sites/default/files/2022-02-16/automate_merch_444x254_0.jpg\"/>\n",
      "//1.cms.s81c.com/sites/default/files/2022-02-16/automate_merch_444x254_0.jpg\n",
      "<img alt=\"Cómo mejorar la experiencia del cliente\" class=\"\" loading=\"lazy\" src=\"//1.cms.s81c.com/sites/default/files/2022-02-16/experience_merch_444x254_0.jpg\"/>\n",
      "//1.cms.s81c.com/sites/default/files/2022-02-16/experience_merch_444x254_0.jpg\n"
     ]
    }
   ],
   "source": [
    "for link in soup.find_all('img'):\n",
    "    \n",
    "    print(link)\n",
    "    print(link.get('src'))"
   ]
  },
  {
   "cell_type": "markdown",
   "metadata": {},
   "source": [
    "# <p style=\"background-color:#bbd0ff; color:#14213d; font-family:newtimeroman; font-size:200%; text-align:left; border-radius: 20px 20px;\"> 📅 Obtener informacion de tablas HTML </p>\n",
    "\n",
    "[Lista parcial de los colores que soporta HTML](https://cf-courses-data.s3.us.cloud-object-storage.appdomain.cloud/IBM-DA0321EN-SkillsNetwork/labs/datasets/HTMLColorCodes.html)"
   ]
  },
  {
   "cell_type": "code",
   "execution_count": 54,
   "metadata": {},
   "outputs": [],
   "source": [
    "# La siguiente url contiene una tabla html con datos sobre colores y códigos de color.\n",
    "\n",
    "url = 'https://cf-courses-data.s3.us.cloud-object-storage.appdomain.cloud/IBM-DA0321EN-SkillsNetwork/labs/datasets/HTMLColorCodes.html'\n"
   ]
  },
  {
   "cell_type": "markdown",
   "metadata": {},
   "source": [
    "Antes de proceder a `scrapear` un sitio web, es necesario examinar el contenido y la forma en que se organizan los datos en el sitio web. Abre la url anterior en tu navegador y comprueba cuántas filas y columnas hay en la tabla de colores."
   ]
  },
  {
   "cell_type": "markdown",
   "metadata": {},
   "source": [
    "obtener el contenido de la página web en formato de texto y almacenarlo en una variable llamada `colorsitos`"
   ]
  },
  {
   "cell_type": "code",
   "execution_count": 55,
   "metadata": {},
   "outputs": [],
   "source": [
    "colorsitos = requests.get(url).text"
   ]
  },
  {
   "cell_type": "code",
   "execution_count": 57,
   "metadata": {},
   "outputs": [],
   "source": [
    "soup = BeautifulSoup(colorsitos, 'html.parser')"
   ]
  },
  {
   "cell_type": "code",
   "execution_count": 59,
   "metadata": {},
   "outputs": [],
   "source": [
    "# Encontrar la tabla en la pagina web\n",
    "# En HTML las tablas se representan con la etiqueta <table>\n",
    "tabla = soup.find('table')"
   ]
  },
  {
   "cell_type": "code",
   "execution_count": 60,
   "metadata": {},
   "outputs": [
    {
     "name": "stdout",
     "output_type": "stream",
     "text": [
      "Color Name ---> None\n",
      "lightsalmon ---> #FFA07A\n",
      "salmon ---> #FA8072\n",
      "darksalmon ---> #E9967A\n",
      "lightcoral ---> #F08080\n",
      "coral ---> #FF7F50\n",
      "tomato ---> #FF6347\n",
      "orangered ---> #FF4500\n",
      "gold ---> #FFD700\n",
      "orange ---> #FFA500\n",
      "darkorange ---> #FF8C00\n",
      "lightyellow ---> #FFFFE0\n",
      "lemonchiffon ---> #FFFACD\n",
      "papayawhip ---> #FFEFD5\n",
      "moccasin ---> #FFE4B5\n",
      "peachpuff ---> #FFDAB9\n",
      "palegoldenrod ---> #EEE8AA\n",
      "khaki ---> #F0E68C\n",
      "darkkhaki ---> #BDB76B\n",
      "yellow ---> #FFFF00\n",
      "lawngreen ---> #7CFC00\n",
      "chartreuse ---> #7FFF00\n",
      "limegreen ---> #32CD32\n",
      "lime ---> #00FF00\n",
      "forestgreen ---> #228B22\n",
      "green ---> #008000\n",
      "powderblue ---> #B0E0E6\n",
      "lightblue ---> #ADD8E6\n",
      "lightskyblue ---> #87CEFA\n",
      "skyblue ---> #87CEEB\n",
      "deepskyblue ---> #00BFFF\n",
      "lightsteelblue ---> #B0C4DE\n",
      "dodgerblue ---> #1E90FF\n"
     ]
    }
   ],
   "source": [
    "# Obtener las filas de la tabla\n",
    "# En html las filas se representan con la etiqueta <tr>\n",
    "for fila in tabla.find_all('tr'): \n",
    "    \n",
    "    # Obtener todas las columnas en cada fila\n",
    "    # En HTML las columnas se representan con la etiqueta <td>\n",
    "    columnas = fila.find_all('td')\n",
    "    \n",
    "    # Almacenar el nombre de la columna 3 como nombre_color\n",
    "    nombre_color = columnas[2].string\n",
    "    # Almacenar el nombre de la columna 3 como codigo_color\n",
    "    codigo_color = columnas[3].string\n",
    "    \n",
    "    # Imprimimos el nombre del color y su valor hexadecimal\n",
    "    print(f'{nombre_color} ---> {codigo_color}')\n",
    "    "
   ]
  },
  {
   "cell_type": "markdown",
   "metadata": {},
   "source": [
    "# <p style=\"background-color:#bbd0ff; color:#14213d; font-family:newtimeroman; font-size:200%; text-align:left; border-radius: 20px 20px;\"> 🐼 Obtener datos de tablas HTML en un DataFrame usando BeautifulSoup y Pandas </p>"
   ]
  }
 ],
 "metadata": {
  "interpreter": {
   "hash": "7c7891e7cf380ed489d75a267c4c9edc21b025f50aaae629f7ee24d6d95fc690"
  },
  "kernelspec": {
   "display_name": "Python 3.10.2 64-bit",
   "language": "python",
   "name": "python3"
  },
  "language_info": {
   "codemirror_mode": {
    "name": "ipython",
    "version": 3
   },
   "file_extension": ".py",
   "mimetype": "text/x-python",
   "name": "python",
   "nbconvert_exporter": "python",
   "pygments_lexer": "ipython3",
   "version": "3.10.2"
  },
  "orig_nbformat": 4
 },
 "nbformat": 4,
 "nbformat_minor": 2
}
