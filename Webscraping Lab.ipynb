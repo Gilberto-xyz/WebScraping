{
 "cells": [
  {
   "cell_type": "markdown",
   "metadata": {},
   "source": [
    "# <p style=\"background-color:#9470ff; color:white; font-family:newtimeroman; font-size:300%; text-align:center; border-radius: 15px 50px;\"> 💻 Webscraping 🕸️</p>"
   ]
  },
  {
   "cell_type": "markdown",
   "metadata": {},
   "source": [
    "# <p style=\"background-color:#99a5ff; color:#14213d; font-family:newtimeroman; font-size:250%; text-align:left; border-radius: 15px 50px;\"> 🕸️ Webscraping</p>"
   ]
  },
  {
   "cell_type": "markdown",
   "metadata": {},
   "source": [
    "# <p style=\"background-color:#bbd0ff; color:#14213d; font-family:newtimeroman; font-size:200%; text-align:left; border-radius: 15px 50px;\"> 🕸️ Webscraping</p>"
   ]
  },
  {
   "cell_type": "code",
   "execution_count": null,
   "metadata": {},
   "outputs": [],
   "source": []
  }
 ],
 "metadata": {
  "language_info": {
   "name": "python"
  },
  "orig_nbformat": 4
 },
 "nbformat": 4,
 "nbformat_minor": 2
}
