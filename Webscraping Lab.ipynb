{
 "cells": [
  {
   "cell_type": "markdown",
   "metadata": {},
   "source": [
    "# <p style=\"background-color:#9470ff; color:white; font-family:newtimeroman; font-size:300%; text-align:center; border-radius: 15px 50px;\"> 💻 Webscraping 🕸️</p>\n",
    "\n",
    "## <p style=\"background-color:#99a5ff; color:#14213d; font-family:newtimeroman; font-size:150%; text-align:left; border-radius: 20px 20px;\"> 📑 Tabla de contenido</p>\n",
    "\n",
    "- Objeto BeautifulSoup\n",
    "\n",
    "    - Tag\n",
    "    - Hijos, padres y hermanos\n",
    "    - Atributos HTML\n",
    "    - Caracteres navegables\n",
    "\n",
    "- Filtro \n",
    "\n",
    "    - Buscar todos \n",
    "    - Buscar\n",
    "    - Atributos HTML\n",
    "    - Caracteres navegables\n",
    "\n",
    "- Scraping y descarga de contenifos de la web"
   ]
  },
  {
   "cell_type": "markdown",
   "metadata": {},
   "source": [
    "Para este laboratorio, vamos a utilizar Python y varias bibliotecas de Python. Algunas de estas bibliotecas pueden estar instaladas en su entorno de laboratorio o en SN Labs. Otras pueden necesitar ser instaladas por usted. Las celdas de abajo instalarán estas bibliotecas cuando se ejecuten.\n",
    "\n",
    "- [bs4](https://www.crummy.com/software/beautifulsoup/bs4/doc/)\n",
    "- [lxml](https://lxml.de/)\n",
    "- [requests](https://requests.readthedocs.io/en/master/)\n",
    "- [html5lib](https://pypi.org/project/html5lib/)"
   ]
  },
  {
   "cell_type": "code",
   "execution_count": 3,
   "metadata": {},
   "outputs": [
    {
     "name": "stderr",
     "output_type": "stream",
     "text": [
      "ERROR: Could not find a version that satisfies the requirement bs4==4.10.0 (from versions: 0.0.0, 0.0.1)\n",
      "ERROR: No matching distribution found for bs4==4.10.0\n"
     ]
    },
    {
     "name": "stdout",
     "output_type": "stream",
     "text": [
      "Requirement already satisfied: lxml==4.6.4 in c:\\users\\g\\appdata\\local\\programs\\python\\python310\\lib\\site-packages (4.6.4)\n",
      "Requirement already satisfied: html5lib==1.1 in c:\\users\\g\\appdata\\local\\programs\\python\\python310\\lib\\site-packages (1.1)\n",
      "Requirement already satisfied: six>=1.9 in c:\\users\\g\\appdata\\local\\programs\\python\\python310\\lib\\site-packages (from html5lib==1.1) (1.16.0)\n",
      "Requirement already satisfied: webencodings in c:\\users\\g\\appdata\\local\\programs\\python\\python310\\lib\\site-packages (from html5lib==1.1) (0.5.1)\n",
      "Requirement already satisfied: requests==2.26.0 in c:\\users\\g\\appdata\\local\\programs\\python\\python310\\lib\\site-packages (2.26.0)\n",
      "Requirement already satisfied: urllib3<1.27,>=1.21.1 in c:\\users\\g\\appdata\\local\\programs\\python\\python310\\lib\\site-packages (from requests==2.26.0) (1.26.8)\n",
      "Requirement already satisfied: idna<4,>=2.5 in c:\\users\\g\\appdata\\local\\programs\\python\\python310\\lib\\site-packages (from requests==2.26.0) (3.3)\n",
      "Requirement already satisfied: certifi>=2017.4.17 in c:\\users\\g\\appdata\\local\\programs\\python\\python310\\lib\\site-packages (from requests==2.26.0) (2021.10.8)\n",
      "Requirement already satisfied: charset-normalizer~=2.0.0 in c:\\users\\g\\appdata\\local\\programs\\python\\python310\\lib\\site-packages (from requests==2.26.0) (2.0.12)\n"
     ]
    }
   ],
   "source": [
    "!pip install bs4==4.10.0 \n",
    "!pip install lxml==4.6.4\n",
    "!pip install html5lib==1.1 \n",
    "!pip install requests==2.26.0"
   ]
  },
  {
   "cell_type": "markdown",
   "metadata": {},
   "source": [
    "Import the required modules and functions"
   ]
  },
  {
   "cell_type": "code",
   "execution_count": null,
   "metadata": {},
   "outputs": [],
   "source": []
  },
  {
   "cell_type": "markdown",
   "metadata": {},
   "source": [
    "# <p style=\"background-color:#99a5ff; color:#14213d; font-family:newtimeroman; font-size:250%; text-align:left; border-radius: 15px 50px;\"> 📦 Objeto Beautifulsoup </p>"
   ]
  },
  {
   "cell_type": "markdown",
   "metadata": {},
   "source": [
    "# <p style=\"background-color:#bbd0ff; color:#14213d; font-family:newtimeroman; font-size:200%; text-align:left; border-radius: 15px 50px;\"> 🕸️ Webscraping</p>"
   ]
  },
  {
   "cell_type": "code",
   "execution_count": null,
   "metadata": {},
   "outputs": [],
   "source": []
  }
 ],
 "metadata": {
  "interpreter": {
   "hash": "7c7891e7cf380ed489d75a267c4c9edc21b025f50aaae629f7ee24d6d95fc690"
  },
  "kernelspec": {
   "display_name": "Python 3.10.2 64-bit",
   "language": "python",
   "name": "python3"
  },
  "language_info": {
   "codemirror_mode": {
    "name": "ipython",
    "version": 3
   },
   "file_extension": ".py",
   "mimetype": "text/x-python",
   "name": "python",
   "nbconvert_exporter": "python",
   "pygments_lexer": "ipython3",
   "version": "3.10.2"
  },
  "orig_nbformat": 4
 },
 "nbformat": 4,
 "nbformat_minor": 2
}
